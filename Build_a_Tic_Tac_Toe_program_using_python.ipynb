{
  "nbformat": 4,
  "nbformat_minor": 0,
  "metadata": {
    "colab": {
      "provenance": [],
      "authorship_tag": "ABX9TyNINHoiFZhG7wdU62Z5LvNQ",
      "include_colab_link": true
    },
    "kernelspec": {
      "name": "python3",
      "display_name": "Python 3"
    },
    "language_info": {
      "name": "python"
    }
  },
  "cells": [
    {
      "cell_type": "markdown",
      "metadata": {
        "id": "view-in-github",
        "colab_type": "text"
      },
      "source": [
        "<a href=\"https://colab.research.google.com/github/richa11101982/AI-mergency/blob/master/Build_a_Tic_Tac_Toe_program_using_python.ipynb\" target=\"_parent\"><img src=\"https://colab.research.google.com/assets/colab-badge.svg\" alt=\"Open In Colab\"/></a>"
      ]
    },
    {
      "cell_type": "code",
      "execution_count": 13,
      "metadata": {
        "id": "lkWINVeKfVnj"
      },
      "outputs": [],
      "source": [
        "# Description : This code simulates the Tic Tac Toe game."
      ]
    },
    {
      "cell_type": "code",
      "source": [
        "# Create a list of empty spaces representing the Tic Tac Toe board.\n",
        "board = [' '  for x in range(0,9)]"
      ],
      "metadata": {
        "id": "7i7E8gFBgD6p"
      },
      "execution_count": 14,
      "outputs": []
    },
    {
      "cell_type": "code",
      "source": [
        "# Create a function that formats and prints the current state of the board\n",
        "def print_board() :\n",
        "  row1 = \"| {} | {} | {} |\" .format(board[0], board[1], board[2])\n",
        "  row2 = \"| {} | {} | {} |\" .format(board[3], board[4], board[5])\n",
        "  row3 = \"| {} | {} | {} |\" .format(board[6], board[7], board[8])\n",
        "\n",
        "  print()\n",
        "  print(row1)\n",
        "  print(row2)\n",
        "  print(row3)\n",
        "  print()\n",
        "\n",
        ""
      ],
      "metadata": {
        "id": "jUINiEwQhiyI"
      },
      "execution_count": 15,
      "outputs": []
    },
    {
      "cell_type": "code",
      "source": [
        "# Create a function to get the players move and update the board\n",
        "def player_move(icon) :\n",
        "  if icon == 'X' :\n",
        "    number = 1\n",
        "  elif icon == 'O' :\n",
        "      number = 2\n",
        "\n",
        "      print('Your turn player #{} :'.format (number))\n",
        "      choice = int (input('Enter your move (1-9):'))\n",
        "      if board[choice - 1] == '':\n",
        "        board[choice - 1] = icon\n",
        "      else :\n",
        "        print()\n",
        "        print('That space is already taken !')\n",
        "        player_move(icon)"
      ],
      "metadata": {
        "id": "VGZA1Q44lMvG"
      },
      "execution_count": 17,
      "outputs": []
    },
    {
      "cell_type": "code",
      "source": [
        "# Create a function to determine the winner\n",
        "def is_victory(icon):\n",
        "  if (board[0] == icon and board[1] == icon and board[2] == icon) or \\\n",
        "     (board[3] == icon and board[4] == icon and board[5] == icon) or \\\n",
        "     (board[6] == icon and board[7] == icon and board[8] == icon) or \\\n",
        "     (board[0] == icon and board[3] == icon and board[6] == icon) or \\\n",
        "     (board[1] == icon and board[4] == icon and board[7] == icon) or \\\n",
        "     (board[2] == icon and board[5] == icon and board[8] == icon) or \\\n",
        "     (board[0] == icon and board[4] == icon and board[8] == icon) or \\\n",
        "     (board[2] == icon and board[4] == icon and board[6] == icon) :\n",
        "     return True\n",
        "  else :\n",
        "    return False"
      ],
      "metadata": {
        "id": "CQN2bhVzpYY_"
      },
      "execution_count": 18,
      "outputs": []
    },
    {
      "cell_type": "code",
      "source": [
        "# Create a function to determine a draw or a tie\n",
        "def is_draw():\n",
        "  if '' not in board:\n",
        "    return True\n",
        "  else :\n",
        "    return False"
      ],
      "metadata": {
        "id": "HbJfu4a7rQ1p"
      },
      "execution_count": 19,
      "outputs": []
    },
    {
      "cell_type": "code",
      "source": [
        "from re import T\n",
        "# Run the game\n",
        "print(\"Below are the board numbers to enter your move:\")\n",
        "print(\"| 1 | 2 | 3 |\")\n",
        "print(\"| 4 | 5 | 6 |\")\n",
        "print(\"| 7 | 8 | 9 |\")\n",
        "\n",
        "while True:\n",
        "  player_move('X')\n",
        "  print_board()\n",
        "  if is_victory('X'):\n",
        "    print('X wins! Congratulations !')\n",
        "    break\n",
        "  elif is_draw():\n",
        "    print(\"It's a draw!\")\n",
        "    break\n",
        "\n",
        "  player_move('O')\n",
        "  print_board()\n",
        "  if is_victory('O'):\n",
        "    print('O wins! Congratulations !')\n",
        "    break\n",
        "  elif is_draw():\n",
        "    print(\"It's a draw!\")\n",
        "    break"
      ],
      "metadata": {
        "colab": {
          "base_uri": "https://localhost:8080/"
        },
        "id": "tOphdtBSsGP2",
        "outputId": "c2f187af-daca-4473-e2b2-16f7f8e632ea"
      },
      "execution_count": 24,
      "outputs": [
        {
          "output_type": "stream",
          "name": "stdout",
          "text": [
            "Below are the board numbers to enter your move:\n",
            "| 1 | 2 | 3 |\n",
            "| 4 | 5 | 6 |\n",
            "| 7 | 8 | 9 |\n",
            "\n",
            "|   |   |   |\n",
            "|   |   |   |\n",
            "|   |   |   |\n",
            "\n",
            "It's a draw!\n"
          ]
        }
      ]
    }
  ]
}